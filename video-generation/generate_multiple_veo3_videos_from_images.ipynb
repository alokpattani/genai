{
  "cells": [
    {
      "cell_type": "code",
      "source": [
        "# Copyright 2025 Google LLC\n",
        "#\n",
        "# Licensed under the Apache License, Version 2.0 (the \"License\");\n",
        "# you may not use this file except in compliance with the License.\n",
        "# You may obtain a copy of the License at\n",
        "#\n",
        "#     https://www.apache.org/licenses/LICENSE-2.0\n",
        "#\n",
        "# Unless required by applicable law or agreed to in writing, software\n",
        "# distributed under the License is distributed on an \"AS IS\" BASIS,\n",
        "# WITHOUT WARRANTIES OR CONDITIONS OF ANY KIND, either express or implied.\n",
        "# See the License for the specific language governing permissions and\n",
        "# limitations under the License."
      ],
      "metadata": {
        "id": "MpvNnbKl0JQx"
      },
      "id": "MpvNnbKl0JQx",
      "execution_count": null,
      "outputs": []
    },
    {
      "cell_type": "markdown",
      "source": [
        "# Setup\n",
        "----"
      ],
      "metadata": {
        "id": "O6Gz2XHD--_f"
      },
      "id": "O6Gz2XHD--_f"
    },
    {
      "cell_type": "markdown",
      "source": [
        "### Install Google Gen AI SDK for Python"
      ],
      "metadata": {
        "id": "QzUyMXFo7sH8"
      },
      "id": "QzUyMXFo7sH8"
    },
    {
      "cell_type": "code",
      "id": "NllSpyFgOufzqLfcycKbeYHG",
      "metadata": {
        "tags": [],
        "id": "NllSpyFgOufzqLfcycKbeYHG"
      },
      "source": [
        "%pip install --upgrade --quiet google-genai"
      ],
      "execution_count": null,
      "outputs": []
    },
    {
      "cell_type": "markdown",
      "source": [
        "### Setup ffmpeg"
      ],
      "metadata": {
        "id": "aZs1Nd2kAcla"
      },
      "id": "aZs1Nd2kAcla"
    },
    {
      "cell_type": "code",
      "source": [
        "!apt-get update -qq && apt-get install -y ffmpeg -qq"
      ],
      "metadata": {
        "id": "qFULyBe2AaQn"
      },
      "id": "qFULyBe2AaQn",
      "execution_count": null,
      "outputs": []
    },
    {
      "cell_type": "markdown",
      "source": [
        "### Authenticate your notebook environment (Colab only)\n",
        "If you are running this notebook on Google Colab, run the following cell to authenticate your environment."
      ],
      "metadata": {
        "id": "WeSc1cmY7zY7"
      },
      "id": "WeSc1cmY7zY7"
    },
    {
      "cell_type": "code",
      "source": [
        "import sys\n",
        "\n",
        "if \"google.colab\" in sys.modules:\n",
        "    from google.colab import auth\n",
        "\n",
        "    auth.authenticate_user()"
      ],
      "metadata": {
        "id": "5nSC28xW71I2"
      },
      "id": "5nSC28xW71I2",
      "execution_count": null,
      "outputs": []
    },
    {
      "cell_type": "markdown",
      "source": [
        "### Import libraries"
      ],
      "metadata": {
        "id": "lN2Rym6-75Jm"
      },
      "id": "lN2Rym6-75Jm"
    },
    {
      "cell_type": "code",
      "source": [
        "from IPython.display import display, Image, HTML, Markdown, Video\n",
        "from google import genai\n",
        "from google.genai import types\n",
        "\n",
        "import time\n",
        "import json\n",
        "import numpy as np\n",
        "import pandas as pd\n",
        "\n",
        "import matplotlib.pyplot as plt\n",
        "import matplotlib.image as mpimg\n",
        "\n",
        "import concurrent.futures"
      ],
      "metadata": {
        "id": "VMoJ_0um79HH"
      },
      "id": "VMoJ_0um79HH",
      "execution_count": null,
      "outputs": []
    },
    {
      "cell_type": "markdown",
      "source": [
        "### Set Google Cloud project information and create client"
      ],
      "metadata": {
        "id": "yT5B5Fsl8CQd"
      },
      "id": "yT5B5Fsl8CQd"
    },
    {
      "cell_type": "code",
      "source": [
        "import os\n",
        "\n",
        "PROJECT_ID = \"[your-project-id]\"  # @param {type: \"string\", placeholder: \"[your-project-id]\", isTemplate: true}\n",
        "if not PROJECT_ID or PROJECT_ID == \"[your-project-id]\":\n",
        "    PROJECT_ID = str(os.environ.get(\"GOOGLE_CLOUD_PROJECT\"))\n",
        "\n",
        "LOCATION = os.environ.get(\"GOOGLE_CLOUD_REGION\", \"us-central1\")\n",
        "\n",
        "client = genai.Client(vertexai=True, project=PROJECT_ID, location=LOCATION)"
      ],
      "metadata": {
        "id": "FZKw3PQ68Aw2"
      },
      "id": "FZKw3PQ68Aw2",
      "execution_count": null,
      "outputs": []
    },
    {
      "cell_type": "markdown",
      "source": [
        "### Define a helper function to display media"
      ],
      "metadata": {
        "id": "aNno4TS98DPJ"
      },
      "id": "aNno4TS98DPJ"
    },
    {
      "cell_type": "code",
      "source": [
        "def show_video(video):\n",
        "    if isinstance(video, str):\n",
        "        file_name = video.split(\"/\")[-1]\n",
        "        !gsutil cp {video} {file_name}\n",
        "        display(Video(file_name, embed=True, width=600))\n",
        "    else:\n",
        "        with open(\"sample.mp4\", \"wb\") as out_file:\n",
        "            out_file.write(video)\n",
        "        display(Video(\"sample.mp4\", embed=True, width=600))"
      ],
      "metadata": {
        "id": "QgNkD16t8BCD"
      },
      "id": "QgNkD16t8BCD",
      "execution_count": null,
      "outputs": []
    },
    {
      "cell_type": "markdown",
      "source": [
        "### Setup video generation (Veo) and image editing (Imagen) models"
      ],
      "metadata": {
        "id": "fgXIWxev9uea"
      },
      "id": "fgXIWxev9uea"
    },
    {
      "cell_type": "code",
      "source": [
        "video_model = \"veo-3.0-generate-preview\" #@param{type:\"string\"} [\"veo-3.0-generate-001\", \"veo-3.0-fast-generate-001\", \"veo-3.0-generate-preview\", \"veo-3.0-fast-generate-preview\"]\n",
        "\n",
        "image_editing_model = \"imagen-3.0-capability-001\" #@param{type:\"string\"} [\"imagen-3.0-capability-001\", \"imagen-3.0-generate-002\"]"
      ],
      "metadata": {
        "id": "2mGlzlO19unz"
      },
      "id": "2mGlzlO19unz",
      "execution_count": null,
      "outputs": []
    },
    {
      "cell_type": "markdown",
      "source": [
        "# Setup folders involved in images and video generation"
      ],
      "metadata": {
        "id": "5Hc71rxPqaj3"
      },
      "id": "5Hc71rxPqaj3"
    },
    {
      "cell_type": "code",
      "source": [
        "images_gcs_path = \"gs://genai_public/ice_cream_images\" #@param{type:\"string\"}\n",
        "\n",
        "original_images_folder = \"original_images\" #@param{type:\"string\"}\n",
        "\n",
        "edited_images_folder = \"edited_images\" #@param{type:\"string\"}\n",
        "\n",
        "videos_folder = \"videos\" #@param{type:\"string\"}\n",
        "\n",
        "for folder in [original_images_folder, edited_images_folder, videos_folder]:\n",
        "  if not os.path.exists(folder):\n",
        "    os.makedirs(folder)"
      ],
      "metadata": {
        "id": "VAXuE2ikY_pq"
      },
      "id": "VAXuE2ikY_pq",
      "execution_count": null,
      "outputs": []
    },
    {
      "cell_type": "markdown",
      "source": [
        "# Copy Image Files Locally and Inspect\n",
        "----"
      ],
      "metadata": {
        "id": "rJq-fYDwZQSR"
      },
      "id": "rJq-fYDwZQSR"
    },
    {
      "cell_type": "markdown",
      "source": [
        "### Get links to image files from Google Cloud Storage"
      ],
      "metadata": {
        "id": "bMbj-bnA6O7v"
      },
      "id": "bMbj-bnA6O7v"
    },
    {
      "cell_type": "code",
      "source": [
        "# Define the path to images folder in Google Cloud Storage\n",
        "\n",
        "!gsutil -m cp -r {images_gcs_path}/* /content/{original_images_folder}\n",
        "\n",
        "# Use os.listdir to list all files in local folder and filter for image files\n",
        "image_files = [file for file in os.listdir(original_images_folder)\n",
        "  if file.endswith(('.jpg', '.jpeg', '.png'))]\n",
        "\n",
        "# Create a list to store the image URIs and local file paths\n",
        "image_data = []\n",
        "\n",
        "# Iterate through the output of gsutil, copy files, and store data\n",
        "for file in image_files:\n",
        "  file = file.strip()  # Remove leading/trailing whitespace\n",
        "  file_name = file.split(\"/\")[-1]\n",
        "  image_data.append({\"file_name\": file_name})\n",
        "\n",
        "# Create a Pandas DataFrame from the list of image data\n",
        "images = (pd.DataFrame(image_data).sort_values(['file_name']).\n",
        "  reset_index(drop=True))\n",
        "\n",
        "images['folder'] = original_images_folder\n",
        "\n",
        "# Get name of image from file name\n",
        "images['image_name'] = images['file_name'].apply(lambda x: x.split('.')[0].\n",
        "  replace('_', ' '))\n",
        "\n",
        "display(images)"
      ],
      "metadata": {
        "id": "TxvA8jDd5daL"
      },
      "id": "TxvA8jDd5daL",
      "execution_count": null,
      "outputs": []
    },
    {
      "cell_type": "markdown",
      "source": [
        "### Show each image with image name above in grid"
      ],
      "metadata": {
        "id": "WXjyR0pWQpbs"
      },
      "id": "WXjyR0pWQpbs"
    },
    {
      "cell_type": "code",
      "source": [
        "# Set figure size\n",
        "plt.figure(figsize=(12, 2 * len(images)))\n",
        "\n",
        "for index, row in images.iterrows():\n",
        "  file_path = os.path.join(row['folder'], row['file_name'])\n",
        "  img = mpimg.imread(file_path)\n",
        "  plt.subplot(len(images) // 3 + 1, 3, index + 1)\n",
        "  plt.imshow(img)\n",
        "  plt.title(row['image_name'])\n",
        "  plt.axis('off')\n",
        "\n",
        "plt.tight_layout()\n",
        "\n",
        "# save off original images together as PNG file (have to do this before calling\n",
        "# \"show\" to avoid getting blank PNG file)\n",
        "plt.savefig(\"original_images.png\")\n",
        "\n",
        "plt.show()"
      ],
      "metadata": {
        "id": "JFYmTs1FPw8d"
      },
      "id": "JFYmTs1FPw8d",
      "execution_count": null,
      "outputs": []
    },
    {
      "cell_type": "markdown",
      "source": [
        "# Try to Remove Image Backgrounds Using Imagen Editing\n",
        "----"
      ],
      "metadata": {
        "id": "GHWp7eQl89Ys"
      },
      "id": "GHWp7eQl89Ys"
    },
    {
      "cell_type": "markdown",
      "source": [
        "### Remove backgrounds for all images in parallel"
      ],
      "metadata": {
        "id": "inqCd46sqAyi"
      },
      "id": "inqCd46sqAyi"
    },
    {
      "cell_type": "code",
      "source": [
        "def remove_image_background(image_file_name):\n",
        "\n",
        "    initial_image = types.Image.from_file(location=image_file_name)\n",
        "\n",
        "    edit_prompt = \"\"\"Keep ice cream and whatever it's already in in the picture.\n",
        "      Remove everything else around it and leave a plain white background,\n",
        "      with no additions.\n",
        "      \"\"\"\n",
        "\n",
        "    raw_ref_image = types.RawReferenceImage(reference_image=initial_image,\n",
        "      reference_id=0)\n",
        "\n",
        "    mask_ref_image = types.MaskReferenceImage(\n",
        "      reference_id=1,\n",
        "      reference_image=None,\n",
        "      config=types.MaskReferenceConfig(\n",
        "          mask_mode=\"MASK_MODE_BACKGROUND\",\n",
        "      ),\n",
        "    )\n",
        "\n",
        "    edited_image = client.models.edit_image(\n",
        "      model=image_editing_model,\n",
        "      prompt=edit_prompt,\n",
        "      reference_images=[raw_ref_image, mask_ref_image],\n",
        "      config=types.EditImageConfig(\n",
        "          edit_mode=\"EDIT_MODE_INPAINT_INSERTION\",\n",
        "          number_of_images=1,\n",
        "          safety_filter_level=\"BLOCK_MEDIUM_AND_ABOVE\",\n",
        "          person_generation=\"ALLOW_ADULT\",\n",
        "      ),\n",
        "    )\n",
        "\n",
        "    return(edited_image)\n",
        "\n",
        "def process_image(row):\n",
        "  file_path = os.path.join(row['folder'], row['file_name'])\n",
        "  edited_image = remove_image_background(file_path)\n",
        "  edited_file_path = os.path.join(edited_images_folder, row['file_name'])\n",
        "  edited_image.generated_images[0].image.save(edited_file_path)\n",
        "  return edited_file_path\n",
        "\n",
        "with concurrent.futures.ThreadPoolExecutor() as executor:\n",
        "  edited_results = list(executor.map(process_image,\n",
        "    [row for _, row in images.iterrows()]))\n",
        "\n",
        "images['edited_image_folder_and_file_name'] = edited_results\n",
        "\n",
        "print(f\"Edited images saved to folder: {edited_images_folder}\")"
      ],
      "metadata": {
        "id": "xHot-6KX9CJo"
      },
      "id": "xHot-6KX9CJo",
      "execution_count": null,
      "outputs": []
    },
    {
      "cell_type": "markdown",
      "source": [
        "### See all resulting edited images together"
      ],
      "metadata": {
        "id": "e_NV5RPBTu_8"
      },
      "id": "e_NV5RPBTu_8"
    },
    {
      "cell_type": "code",
      "source": [
        "# Set figure size\n",
        "plt.figure(figsize=(12, 2 * len(images)))\n",
        "\n",
        "for index, row in images.iterrows():\n",
        "  file_path = row['edited_image_folder_and_file_name']\n",
        "  img = mpimg.imread(file_path)\n",
        "  plt.subplot(len(images) // 3 + 1, 3, index + 1)\n",
        "  plt.imshow(img)\n",
        "  plt.title(row['image_name'])\n",
        "  plt.axis('off')\n",
        "\n",
        "plt.tight_layout()\n",
        "\n",
        "# save off edited images together as PNG file (have to do this before calling\n",
        "# \"show\" to avoid getting blank PNG file)\n",
        "plt.savefig(\"edited_images.png\")\n",
        "\n",
        "plt.show()"
      ],
      "metadata": {
        "id": "3IMRt9ZoTZbe"
      },
      "id": "3IMRt9ZoTZbe",
      "execution_count": null,
      "outputs": []
    },
    {
      "cell_type": "markdown",
      "source": [
        "# Generate Videos for Each Image\n",
        "----"
      ],
      "metadata": {
        "id": "oir9Owg1_NuP"
      },
      "id": "oir9Owg1_NuP"
    },
    {
      "cell_type": "markdown",
      "source": [
        "### Generate videos for all images in parallel"
      ],
      "metadata": {
        "id": "Z_ct27qVsTAq"
      },
      "id": "Z_ct27qVsTAq"
    },
    {
      "cell_type": "code",
      "source": [
        "def generate_video_from_image(image_file_name, image_name):\n",
        "\n",
        "  video_prompt = f\"\"\"A high-resolution, professional product shot of this\n",
        "    ice cream named {image_name} on a clean white background. The video\n",
        "    shows a dynamic 360-degree rotation of the ice cream, with the camera\n",
        "    smoothly dollying out to reveal all its details. The ice cream does not get\n",
        "    changed. No other new subjects or people are shown, just focus on the ice\n",
        "    cream throughout the video.\n",
        "\n",
        "    A highly energetic male voiceover (not shown) says 1 short sentence about\n",
        "    what makes this particular ice cream creation so delicious, using specific\n",
        "    details from the image (but not the text or brand names).\n",
        "    Do not use the words \"induldge\", \"delightful\", or \"decadent\", just get right\n",
        "    into what the ice cream creation is when describing it.\n",
        "    \"\"\"\n",
        "\n",
        "  video_gen_operation = client.models.generate_videos(\n",
        "    model=video_model,\n",
        "    prompt=video_prompt,\n",
        "    image=types.Image.from_file(location=image_file_name),\n",
        "    config=types.GenerateVideosConfig(\n",
        "      aspect_ratio=\"16:9\",\n",
        "      number_of_videos=1,\n",
        "      duration_seconds=8,\n",
        "      resolution=\"1080p\",\n",
        "      person_generation=\"allow_adult\",\n",
        "      enhance_prompt=True,\n",
        "      generate_audio=True\n",
        "      )\n",
        "    )\n",
        "\n",
        "  while not video_gen_operation.done:\n",
        "    time.sleep(15)\n",
        "    video_gen_operation = client.operations.get(video_gen_operation)\n",
        "    print(\"Video generation in progress\")\n",
        "\n",
        "  if video_gen_operation.response:\n",
        "    print(\"Video generation complete\")\n",
        "    gen_video = video_gen_operation.result.generated_videos[0].video\n",
        "\n",
        "    return gen_video\n",
        "\n",
        "  else:\n",
        "    print(\"Video generation failed\")\n",
        "\n",
        "def generate_video_for_row(row):\n",
        "  # Can modify here whether to use original images or edited ones\n",
        "  # image_folder_and_file_name = f\"{row['folder']}/{row['file_name']}\"\n",
        "  image_folder_and_file_name = row['edited_image_folder_and_file_name']\n",
        "\n",
        "  video = generate_video_from_image(image_folder_and_file_name,\n",
        "    row['image_name'])\n",
        "\n",
        "  return video\n",
        "\n",
        "with concurrent.futures.ThreadPoolExecutor() as executor:\n",
        "  videos = list(executor.map(generate_video_for_row, images.to_dict('records')))\n",
        "\n",
        "images['video'] = videos\n",
        "\n",
        "display(images)"
      ],
      "metadata": {
        "id": "4luMYhMy_Sal"
      },
      "id": "4luMYhMy_Sal",
      "execution_count": null,
      "outputs": []
    },
    {
      "cell_type": "markdown",
      "source": [
        "# Putting Things Together and Outputting\n",
        "---"
      ],
      "metadata": {
        "id": "02aeVZA_AP6Y"
      },
      "id": "02aeVZA_AP6Y"
    },
    {
      "cell_type": "markdown",
      "source": [
        "### Output all videos as .mp4 files to local folder"
      ],
      "metadata": {
        "id": "ABpuekGztYA2"
      },
      "id": "ABpuekGztYA2"
    },
    {
      "cell_type": "code",
      "source": [
        "# Limit down to images where actual video was generated\n",
        "images_with_video = (images[\n",
        "  ~pd.isna(images['video'])].\n",
        "  reset_index(drop = True)\n",
        "  )\n",
        "\n",
        "# loop over videos in images df and output as .mp4 files to videos folder\n",
        "for index, row in images_with_video.iterrows():\n",
        "  video_file_name = f\"{row['file_name']}\".replace(\".jpg\", \".mp4\")\n",
        "  video_file_path = os.path.join(videos_folder, video_file_name)\n",
        "  with open(video_file_path, \"wb\") as out_file:\n",
        "    out_file.write(row['video'].video_bytes)\n",
        "\n",
        "print(f\"Videos saved to folder: {videos_folder}\")"
      ],
      "metadata": {
        "id": "tPEDqQMYtWwK"
      },
      "id": "tPEDqQMYtWwK",
      "execution_count": null,
      "outputs": []
    },
    {
      "cell_type": "markdown",
      "source": [
        "### Combine all video files into 1 longer video"
      ],
      "metadata": {
        "id": "Sliu8Ud9dcC_"
      },
      "id": "Sliu8Ud9dcC_"
    },
    {
      "cell_type": "code",
      "source": [
        "# Create a file containing the list of video files\n",
        "video_list_path = os.path.join(videos_folder, \"video_list.txt\")\n",
        "\n",
        "video_files = [file for file in os.listdir(videos_folder)\n",
        "  if os.path.isfile(os.path.join(videos_folder, file)) and file.endswith('.mp4')\n",
        "  ]\n",
        "\n",
        "video_files.sort()\n",
        "\n",
        "with open(video_list_path, \"w\") as f:\n",
        "  for video_file in video_files:\n",
        "    f.write(f\"file '{video_file}'\\n\")\n",
        "\n",
        "# Concatenate the videos using ffmpeg\n",
        "!ffmpeg -y -f concat -safe 0 -i {video_list_path} -c copy combined_video.mp4"
      ],
      "metadata": {
        "id": "e8AIiW5UcLZs"
      },
      "id": "e8AIiW5UcLZs",
      "execution_count": null,
      "outputs": []
    },
    {
      "cell_type": "markdown",
      "source": [
        "### Download combined video"
      ],
      "metadata": {
        "id": "nis3hUrLhJLF"
      },
      "id": "nis3hUrLhJLF"
    },
    {
      "cell_type": "code",
      "source": [
        "from google.colab import files\n",
        "files.download('combined_video.mp4')"
      ],
      "metadata": {
        "id": "XkXwOBPYhAly"
      },
      "id": "XkXwOBPYhAly",
      "execution_count": null,
      "outputs": []
    },
    {
      "cell_type": "markdown",
      "source": [
        "### Display the combined video"
      ],
      "metadata": {
        "id": "q-Pej_0IsjQm"
      },
      "id": "q-Pej_0IsjQm"
    },
    {
      "cell_type": "code",
      "source": [
        "# show_video(\"combined_video.mp4\")"
      ],
      "metadata": {
        "id": "47aI1Swvu7n9"
      },
      "id": "47aI1Swvu7n9",
      "execution_count": null,
      "outputs": []
    }
  ],
  "metadata": {
    "kernelspec": {
      "display_name": "Python 3",
      "language": "python",
      "name": "python3"
    },
    "language_info": {
      "codemirror_mode": {
        "name": "ipython",
        "version": 3
      },
      "file_extension": ".py",
      "mimetype": "text/x-python",
      "name": "python",
      "nbconvert_exporter": "python",
      "pygments_lexer": "ipython3",
      "version": "3.10.10"
    },
    "colab": {
      "provenance": [],
      "name": "generate_multiple_veo3_videos_from_images"
    }
  },
  "nbformat": 4,
  "nbformat_minor": 5
}